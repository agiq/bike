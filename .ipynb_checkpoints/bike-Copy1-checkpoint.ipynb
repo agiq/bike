{
 "cells": [
  {
   "cell_type": "markdown",
   "id": "c0faa80f",
   "metadata": {},
   "source": [
    "#### Importthe libraries"
   ]
  },
  {
   "cell_type": "code",
   "execution_count": 1,
   "id": "92510d3f",
   "metadata": {},
   "outputs": [],
   "source": [
    "import pandas as pd\n",
    "import numpy as np\n",
    "import matplotlib.pyplot as plt\n",
    "import seaborn as sns\n",
    "import matplotlib.pyplot as plt\n",
    "from pylab import *\n",
    "import sklearn\n",
    "from sklearn.model_selection import train_test_split\n",
    "from sklearn.preprocessing import MinMaxScaler\n",
    "import statsmodels.api as sm\n",
    "from statsmodels.stats.outliers_influence import variance_inflation_factor\n",
    "from sklearn.metrics import r2_score\n",
    "from sklearn.metrics import mean_squared_error\n",
    "import datetime as dt"
   ]
  },
  {
   "cell_type": "markdown",
   "id": "c5802c62",
   "metadata": {},
   "source": [
    "#### Read the data"
   ]
  },
  {
   "cell_type": "code",
   "execution_count": 2,
   "id": "81b1cf48",
   "metadata": {
    "scrolled": true
   },
   "outputs": [],
   "source": [
    "bike_df = pd.read_csv('./day.csv')"
   ]
  },
  {
   "cell_type": "markdown",
   "id": "d9aa1b55",
   "metadata": {},
   "source": [
    "#### Converting date to day, month, and year"
   ]
  },
  {
   "cell_type": "code",
   "execution_count": 3,
   "id": "31b8f114",
   "metadata": {},
   "outputs": [],
   "source": [
    "bike_df['day'] = bike_df['dteday'].apply(lambda x: dt.datetime.strptime(x, '%d-%m-%Y').day)\n",
    "bike_df = bike_df.drop(['dteday'], axis=1)"
   ]
  },
  {
   "cell_type": "code",
   "execution_count": 4,
   "id": "43761db2",
   "metadata": {},
   "outputs": [
    {
     "data": {
      "text/plain": [
       "instant       730\n",
       "season          4\n",
       "yr              2\n",
       "mnth           12\n",
       "holiday         2\n",
       "weekday         7\n",
       "workingday      2\n",
       "weathersit      3\n",
       "temp          498\n",
       "atemp         689\n",
       "hum           594\n",
       "windspeed     649\n",
       "casual        605\n",
       "registered    678\n",
       "cnt           695\n",
       "day            31\n",
       "dtype: int64"
      ]
     },
     "execution_count": 4,
     "metadata": {},
     "output_type": "execute_result"
    }
   ],
   "source": [
    "bike_df.nunique()"
   ]
  },
  {
   "cell_type": "code",
   "execution_count": 5,
   "id": "cbbfca1e",
   "metadata": {},
   "outputs": [],
   "source": [
    "TARGET = 'cnt'"
   ]
  },
  {
   "cell_type": "code",
   "execution_count": 6,
   "id": "3482f05b",
   "metadata": {},
   "outputs": [],
   "source": [
    "YESNO = ['yr','holiday','workingday']"
   ]
  },
  {
   "cell_type": "code",
   "execution_count": 7,
   "id": "62813532",
   "metadata": {
    "scrolled": false
   },
   "outputs": [
    {
     "name": "stdout",
     "output_type": "stream",
     "text": [
      "<class 'pandas.core.frame.DataFrame'>\n",
      "RangeIndex: 730 entries, 0 to 729\n",
      "Data columns (total 16 columns):\n",
      " #   Column      Non-Null Count  Dtype  \n",
      "---  ------      --------------  -----  \n",
      " 0   instant     730 non-null    int64  \n",
      " 1   season      730 non-null    int64  \n",
      " 2   yr          730 non-null    int64  \n",
      " 3   mnth        730 non-null    int64  \n",
      " 4   holiday     730 non-null    int64  \n",
      " 5   weekday     730 non-null    int64  \n",
      " 6   workingday  730 non-null    int64  \n",
      " 7   weathersit  730 non-null    int64  \n",
      " 8   temp        730 non-null    float64\n",
      " 9   atemp       730 non-null    float64\n",
      " 10  hum         730 non-null    float64\n",
      " 11  windspeed   730 non-null    float64\n",
      " 12  casual      730 non-null    int64  \n",
      " 13  registered  730 non-null    int64  \n",
      " 14  cnt         730 non-null    int64  \n",
      " 15  day         730 non-null    int64  \n",
      "dtypes: float64(4), int64(12)\n",
      "memory usage: 91.4 KB\n"
     ]
    }
   ],
   "source": [
    "bike_df.info()"
   ]
  },
  {
   "cell_type": "markdown",
   "id": "6bf77df8",
   "metadata": {},
   "source": [
    "#### Columns evaluation\n",
    "Columns with 0 & 1 are: yr, holiday, and working day\n",
    "\n",
    "Columns that can turn into dummies is: weathsit\n",
    "\n",
    "Columns that can turn into categorical are: 'season','mnth','yr','holiday','weekday','workingday','weathersit', 'day'"
   ]
  },
  {
   "cell_type": "markdown",
   "id": "34c4f378",
   "metadata": {},
   "source": [
    "#### Change Data Categories"
   ]
  },
  {
   "cell_type": "code",
   "execution_count": 8,
   "id": "673e498c",
   "metadata": {},
   "outputs": [],
   "source": [
    "category_cols=['season','mnth','yr','holiday','weekday','workingday','weathersit','day']\n",
    "for col in category_cols:\n",
    "  bike_df[col]=bike_df[col].astype('category')"
   ]
  },
  {
   "cell_type": "code",
   "execution_count": 9,
   "id": "b8639f40",
   "metadata": {},
   "outputs": [],
   "source": [
    "bike_categorical = bike_df.select_dtypes(include='category')\n",
    "bike_numerical = bike_df.select_dtypes(include='number')"
   ]
  },
  {
   "cell_type": "code",
   "execution_count": 10,
   "id": "e3333538",
   "metadata": {},
   "outputs": [
    {
     "name": "stdout",
     "output_type": "stream",
     "text": [
      "There are 730 rows and 16 columns in this data set.\n",
      "There is (730, 8) categorical data and (730, 8) numerical data.\n",
      "There is 0 missing data and 0 duplicate values\n",
      "The Targe variable is 'cnt'\n"
     ]
    }
   ],
   "source": [
    "print(\"There are {} rows and {} columns in this data set.\".format(bike_df.shape[0], bike_df.shape[1]))\n",
    "print(\"There is {} categorical data and {} numerical data.\".format(bike_categorical.shape, bike_numerical.shape) )\n",
    "print(\"There is {} missing data and {} duplicate values\".format(bike_df.isnull().sum()[1].sum(), len(bike_df[bike_df.duplicated()])))\n",
    "print(\"The Targe variable is 'cnt'\")"
   ]
  },
  {
   "cell_type": "markdown",
   "id": "297a7775",
   "metadata": {},
   "source": [
    "### Exploratory Data Analysis\n",
    "#### Use boxplot to find correlations"
   ]
  },
  {
   "cell_type": "code",
   "execution_count": null,
   "id": "4405c022",
   "metadata": {},
   "outputs": [],
   "source": [
    "plt.figure(figsize=(20, 12))\n",
    "plt.subplots_adjust(hspace=0.2)\n",
    "plt.suptitle(\"Compare categorical variables with TARGET(cnt)\", fontsize=18, y=0.95)\n",
    "\n",
    "# set number of columns (use 3 to demonstrate the change)\n",
    "ncols = 3\n",
    "# calculate number of rows\n",
    "nrows = len(category_cols) // ncols + (len(category_cols) % ncols > 0)\n",
    "\n",
    "for n, m in enumerate(bike_df[category_cols]):\n",
    "    # add a new subplot iteratively using nrows and cols\n",
    "    ax = plt.subplot(nrows, ncols, n + 1)\n",
    "\n",
    "    # filter df and plot ticker on the new subplot axis\n",
    "    sns.boxplot(x=bike_df[category_cols[n]], y=bike_df[TARGET], ax=ax)\n",
    "    ax.set_xlabel(category_cols[n])"
   ]
  },
  {
   "cell_type": "markdown",
   "id": "d8938a5c",
   "metadata": {},
   "source": [
    "#### Analysis based on boxplot:\n",
    "- Falls has the highest bike rental count. Spring has the lowest bike rental count.\n",
    "- Year: 2019 bike rental is higher than 2018. \n",
    "- Holiday: non-holiday (0) has a wider range compared to holiday\n",
    "- Weekday: Wednesday and Thursday appear to have more bike rental\n",
    "- Working: inconclusive \n",
    "- Weather: Bike rentalis high  when it is  Clear, Few clouds, Partly cloudy, Partly cloudy\n",
    "- Month: More bike rentals occur between May and September\n",
    "- Day: It seems that bike rental occur more in the middle of the month"
   ]
  },
  {
   "cell_type": "markdown",
   "id": "62807c98",
   "metadata": {},
   "source": [
    "#### Use heatmap to find correlations"
   ]
  },
  {
   "cell_type": "code",
   "execution_count": null,
   "id": "389e0d39",
   "metadata": {
    "scrolled": true
   },
   "outputs": [],
   "source": [
    "plt.figure(figsize=(12,8))\n",
    "sns.heatmap(bike_df.corr(), annot=True, cmap=\"YlGnBu\")\n",
    "plt.show()"
   ]
  },
  {
   "cell_type": "code",
   "execution_count": null,
   "id": "40c14477",
   "metadata": {},
   "outputs": [],
   "source": [
    "corr = bike_df.corr()\n",
    "plt.figure(figsize=(10, 3))\n",
    "sns.heatmap(corr[[TARGET]].sort_values(by=TARGET, ascending=False), vmin=-1, annot=True, cmap='BrBG');\n",
    "corr_order = corr[[TARGET]].sort_values(by=TARGET, ascending=False).index"
   ]
  },
  {
   "cell_type": "markdown",
   "id": "753479e7",
   "metadata": {},
   "source": [
    "#### Using the positive correlated variables from above to plot against cnt."
   ]
  },
  {
   "cell_type": "code",
   "execution_count": null,
   "id": "56ef306e",
   "metadata": {},
   "outputs": [],
   "source": [
    "# plots to analyze the distribution of all numerical features\n",
    "# for col in ['registered', 'casual', 'atemp', 'instant', 'temp','day']:\n",
    "for col in bike_numerical:\n",
    "    if col != TARGET:\n",
    "      plt.figure(figsize=(10,6))\n",
    "      bike_df.groupby(col).mean()[TARGET].plot()\n",
    "      plt.xlabel(col)\n",
    "plt.show()\n"
   ]
  },
  {
   "cell_type": "markdown",
   "id": "bedd3ae6",
   "metadata": {},
   "source": [
    "#### Map out numerical assignment to human readable text"
   ]
  },
  {
   "cell_type": "code",
   "execution_count": null,
   "id": "1e5b8a3b",
   "metadata": {
    "scrolled": true
   },
   "outputs": [],
   "source": [
    "dictonary = {'season': ['Spring', 'Summer', 'Falls', 'Winter'],\n",
    "             'yr': [2018, 2019],\n",
    "             'mnth': ['Jan','Feb','Mar','Apr','May','Jun','Jul','Aug','Sep','Oct','Nov','Dec'],\n",
    "             'holiday':['Yes','No'],\n",
    "             'weekday':['Sun','Mon','Tue','Wed','Thu','Fri','Sat'],\n",
    "             'workingday':['Yes','No'],\n",
    "             'weathersit':['Clear','Cloudy','Wet','Heavy Snow/Rain'],\n",
    "             'day':['Sun','Mon','Tue','Wed','Thu','Fri','Sat']\n",
    "            }     \n",
    "for k,v in dictonary.items():\n",
    "    f = plt.figure(figsize=(7,5))\n",
    "    ax = f.add_subplot(1,1,1)\n",
    "    sns.histplot(data=bike_df, ax=ax, stat=\"count\", multiple=\"stack\",\n",
    "                 x=\"cnt\",kde=False,\n",
    "                 palette=\"pastel\", hue=bike_df[k],\n",
    "                 element=\"bars\", legend=True)\n",
    "    ax.set_title(f\"{k}\" \" and rental count\")\n",
    "    ax.set_xlabel(k)\n",
    "    ax.legend(v)\n",
    "    ax.set_ylabel(\"Count\")\n"
   ]
  },
  {
   "cell_type": "markdown",
   "id": "cf54c8d6",
   "metadata": {},
   "source": [
    "#### Perform Simple Linear Regression\n",
    "Quickly see which variable has positive impact on the model to be trained.\n",
    "\n",
    "Based on the chart below, Registered is the most probable variable to be trained first."
   ]
  },
  {
   "cell_type": "code",
   "execution_count": null,
   "id": "d08911c9",
   "metadata": {},
   "outputs": [],
   "source": [
    "rfe_df = bike_df\n",
    "mlr_df = bike_df\n",
    "df2=bike_df\n",
    "adv = bike_numerical\n",
    "for i in adv:\n",
    "    x = df2[i]\n",
    "    y = df2[TARGET]\n",
    "    m = (x.mean() * y.mean() - (x*y).mean())/((x.mean() * x.mean())-(x * x).mean())\n",
    "    b = y.mean() - m*x.mean()\n",
    "    \n",
    "    # train test split\n",
    "    X_train, X_test, y_train, y_test = train_test_split(x, y, train_size=0.70, random_state=100)\n",
    "    \n",
    "    X_train_sm = sm.add_constant(X_train)\n",
    "    lr =sm.OLS(y_train, X_train_sm)\n",
    "    lr_model = lr.fit()\n",
    "\n",
    "    y_train_pred = lr_model.predict(X_train_sm)\n",
    "    res = y_train - y_train_pred\n",
    "\n",
    "    # plot the prediction in red  \n",
    "    fig, (ax1, ax2, ax3, ax4) = plt.subplots(1,4, figsize=(15,5))\n",
    "    fig.suptitle(i, fontweight =\"bold\")\n",
    "\n",
    "    ax1.scatter(X_train, y_train, color='#003F72')\n",
    "    ax1.plot(X_train, b + m * X_train, 'r' )\n",
    "    ax1.set_title(\"Training Set Prediction\")\n",
    "    \n",
    "    sns.histplot(res, color='blue', kde=True, ax=ax2)\n",
    "    ax2.set_title(\"Residual Plot\")\n",
    "    \n",
    "    ax3.scatter(X_train, res)\n",
    "    ax3.set_title(\"Pattern\")\n",
    "    \n",
    "    ax4.scatter(X_test, y_test, color='#003F72')\n",
    "    ax4.plot(X_test, b + m * X_test, 'r' )\n",
    "    ax4.set_title(\"Test Set\")\n",
    "    \n",
    "    plt.show()"
   ]
  },
  {
   "cell_type": "markdown",
   "id": "010d5160",
   "metadata": {},
   "source": [
    "#### Multiple Linear Regression\n",
    "\n",
    "##### Create dummy variables\n",
    "Drop the original categorical data after concatenation."
   ]
  },
  {
   "cell_type": "code",
   "execution_count": null,
   "id": "2b25f341",
   "metadata": {
    "scrolled": false
   },
   "outputs": [],
   "source": [
    "DUMMIES = ['weathersit']\n",
    "DUMMY_COLS = pd.get_dummies(bike_df[DUMMIES], drop_first=True)\n",
    "bike_df = pd.concat([bike_df, DUMMY_COLS], axis=1)\n",
    "bike_df = bike_df.drop(DUMMIES, axis=1)\n",
    "bike_df.head()"
   ]
  },
  {
   "cell_type": "markdown",
   "id": "996cc078",
   "metadata": {},
   "source": [
    "#### Train Test Split"
   ]
  },
  {
   "cell_type": "code",
   "execution_count": null,
   "id": "734e1bed",
   "metadata": {},
   "outputs": [],
   "source": [
    "mlr_train, mlr_test = train_test_split(mlr_df, train_size=0.7, random_state=100)\n",
    "print(mlr_train.shape)\n",
    "print(mlr_test.shape)"
   ]
  },
  {
   "cell_type": "markdown",
   "id": "32ae3849",
   "metadata": {},
   "source": [
    "#### Scaling the data\n",
    "Apply scaler() to all the columns except the 'YESNO' and 'DUMMIES' variables\n"
   ]
  },
  {
   "cell_type": "code",
   "execution_count": null,
   "id": "1ee80f7d",
   "metadata": {},
   "outputs": [],
   "source": [
    "EXCLUDE = pd.concat([bike_df[YESNO], bike_df[DUMMY_COLS.columns]], axis=1).columns\n",
    "SCALED = bike_df.loc[:,~bike_df.columns.isin(EXCLUDE)]"
   ]
  },
  {
   "cell_type": "code",
   "execution_count": null,
   "id": "1a6510c8",
   "metadata": {},
   "outputs": [],
   "source": [
    "#1 Scale the numerical data\n",
    "scaler = MinMaxScaler()\n",
    "\n",
    "#2. Fit on data\n",
    "mlr_train[SCALED.columns] = scaler.fit_transform(mlr_train[SCALED.columns])"
   ]
  },
  {
   "cell_type": "code",
   "execution_count": null,
   "id": "d7f16cdc",
   "metadata": {
    "scrolled": true
   },
   "outputs": [],
   "source": [
    "mlr_train.describe()"
   ]
  },
  {
   "cell_type": "code",
   "execution_count": null,
   "id": "3228a997",
   "metadata": {},
   "outputs": [],
   "source": [
    "# X_train, y_train\n",
    "y_train = mlr_train.pop(TARGET)\n",
    "X_train = mlr_train\n"
   ]
  },
  {
   "cell_type": "markdown",
   "id": "bbd6cf36",
   "metadata": {},
   "source": [
    "Createa functions so it can be re-used as we will manually add one variable at a time"
   ]
  },
  {
   "cell_type": "code",
   "execution_count": null,
   "id": "4261b781",
   "metadata": {},
   "outputs": [],
   "source": [
    "# Create a dataframe that will contain the names of all the feature variables\n",
    "def get_vif(x):\n",
    "    vif = pd.DataFrame()\n",
    "    vif['Features'] = x.columns\n",
    "    vif['VIF'] = [variance_inflation_factor(x.values, i) for i in range(x.shape[1]) if (x.shape[1]>0)]\n",
    "    vif['VIF'] = round(vif['VIF'], 2)\n",
    "    vif = vif.sort_values(by = \"VIF\", ascending=False)\n",
    "    return vif"
   ]
  },
  {
   "cell_type": "markdown",
   "id": "593a701f",
   "metadata": {},
   "source": [
    "Taking the cue from the Simple Linear Regression above, we see that Registered immediately get us 89.9% for R-squared while its p-value is zero."
   ]
  },
  {
   "cell_type": "code",
   "execution_count": null,
   "id": "f82573bb",
   "metadata": {},
   "outputs": [],
   "source": [
    "print(\"The list of correlation in descending order: \\n{}\".format(corr_order))"
   ]
  },
  {
   "cell_type": "markdown",
   "id": "ae4bdc8f",
   "metadata": {},
   "source": [
    "### For the first model, we add one variable at a time in according with our correlation study above."
   ]
  },
  {
   "cell_type": "markdown",
   "id": "0cc3e1c3",
   "metadata": {},
   "source": [
    "Lets ignore the TARGET variable and start training the model with next highest correlated variables.  Then, start add more variables."
   ]
  },
  {
   "cell_type": "code",
   "execution_count": null,
   "id": "6c3898ee",
   "metadata": {},
   "outputs": [],
   "source": [
    "# build a model with all variables\n",
    "X_train_sm = sm.add_constant(X_train['registered'])\n",
    "# create first model\n",
    "lr = sm.OLS(y_train, X_train_sm).fit()\n",
    "lr.params"
   ]
  },
  {
   "cell_type": "markdown",
   "id": "0d405924",
   "metadata": {},
   "source": [
    "R^2 is 89%.  P-Value is below .005."
   ]
  },
  {
   "cell_type": "code",
   "execution_count": null,
   "id": "9b06664d",
   "metadata": {},
   "outputs": [],
   "source": [
    "lr.summary()"
   ]
  },
  {
   "cell_type": "markdown",
   "id": "74a260b2",
   "metadata": {},
   "source": [
    "Lets add first two highest correlated variable at once."
   ]
  },
  {
   "cell_type": "code",
   "execution_count": null,
   "id": "008b2435",
   "metadata": {},
   "outputs": [],
   "source": [
    "# build a model with all variables\n",
    "X_train_sm = sm.add_constant(X_train[['registered','casual']])\n",
    "# create first model\n",
    "lr = sm.OLS(y_train, X_train_sm).fit()\n",
    "lr.params"
   ]
  },
  {
   "cell_type": "code",
   "execution_count": null,
   "id": "8ed287a6",
   "metadata": {
    "scrolled": true
   },
   "outputs": [],
   "source": [
    "lr.summary()"
   ]
  },
  {
   "cell_type": "markdown",
   "id": "cbd7a094",
   "metadata": {},
   "source": [
    "#### Just adding two variables ('registered', and 'casual'), we're able to get 1.0 for R-squared and p-values are all zero, insignificant.\n",
    "#### Lets add all the variables\n"
   ]
  },
  {
   "cell_type": "code",
   "execution_count": null,
   "id": "0bc1b200",
   "metadata": {},
   "outputs": [],
   "source": [
    "X_train_lm = sm.add_constant(X_train)\n",
    "lr_1 = sm.OLS(y_train, X_train_lm).fit()\n",
    "lr_1.params"
   ]
  },
  {
   "cell_type": "code",
   "execution_count": null,
   "id": "d052662a",
   "metadata": {},
   "outputs": [],
   "source": [
    "lr_1.summary()"
   ]
  },
  {
   "cell_type": "markdown",
   "id": "1f4bf8bb",
   "metadata": {},
   "source": [
    "#### After we added all variables, The many of the p-values became significant.  Let's suppliment is with VIF and determine which variables to drop so that we can improve the model."
   ]
  },
  {
   "cell_type": "code",
   "execution_count": null,
   "id": "04faa34f",
   "metadata": {},
   "outputs": [],
   "source": [
    "get_vif(X_train_lm)"
   ]
  },
  {
   "cell_type": "markdown",
   "id": "e8655492",
   "metadata": {},
   "source": [
    "#### VIF is showing variables that should be dropped.  Let's begin with the highest one first.  Then, we reevaluate and retrain the model."
   ]
  },
  {
   "cell_type": "code",
   "execution_count": null,
   "id": "6e5aa4ce",
   "metadata": {},
   "outputs": [],
   "source": [
    "X = X_train.drop('instant', axis=1)"
   ]
  },
  {
   "cell_type": "code",
   "execution_count": null,
   "id": "30659872",
   "metadata": {},
   "outputs": [],
   "source": [
    "X_train_lm = sm.add_constant(X)\n",
    "\n",
    "lr_2 = sm.OLS(y_train, X_train_lm).fit()"
   ]
  },
  {
   "cell_type": "code",
   "execution_count": null,
   "id": "730e2dd8",
   "metadata": {},
   "outputs": [],
   "source": [
    "#After dropping 'instant', R-squaredis still 1.00\n",
    "lr_2.summary()"
   ]
  },
  {
   "cell_type": "code",
   "execution_count": null,
   "id": "75760d0f",
   "metadata": {},
   "outputs": [],
   "source": [
    "#atemp is the next highest VIF and the p-value is above .05.  Lets drop it and retrain the model.\n",
    "get_vif(X)"
   ]
  },
  {
   "cell_type": "code",
   "execution_count": null,
   "id": "31fa9bfc",
   "metadata": {},
   "outputs": [],
   "source": [
    "X = X.drop('atemp', axis=1)\n",
    "X_train_lm = sm.add_constant(X)\n",
    "lr_2 = sm.OLS(y_train, X_train_lm).fit()\n",
    "lr_2.summary()"
   ]
  },
  {
   "cell_type": "code",
   "execution_count": null,
   "id": "be727974",
   "metadata": {},
   "outputs": [],
   "source": [
    "get_vif(X)"
   ]
  },
  {
   "cell_type": "code",
   "execution_count": null,
   "id": "7aa2482f",
   "metadata": {},
   "outputs": [],
   "source": [
    "X = X.drop('mnth', axis=1)\n",
    "X_train_lm = sm.add_constant(X)\n",
    "lr_2 = sm.OLS(y_train, X_train_lm).fit()\n",
    "lr_2.summary()"
   ]
  },
  {
   "cell_type": "code",
   "execution_count": null,
   "id": "75751ba7",
   "metadata": {},
   "outputs": [],
   "source": [
    "get_vif(X)"
   ]
  },
  {
   "cell_type": "markdown",
   "id": "d9c33da1",
   "metadata": {},
   "source": [
    "X4 = X3.drop('temp', axis=1)\n",
    "X_train_lm = sm.add_constant(X4)\n",
    "lr_2 = sm.OLS(y_train, X_train_lm).fit()\n",
    "lr_2.summary()"
   ]
  },
  {
   "cell_type": "code",
   "execution_count": null,
   "id": "8dfabafa",
   "metadata": {},
   "outputs": [],
   "source": [
    "X = X.drop('weekday', axis=1)\n",
    "X_train_lm = sm.add_constant(X)\n",
    "lr_2 = sm.OLS(y_train, X_train_lm).fit()\n",
    "lr_2.summary()"
   ]
  },
  {
   "cell_type": "code",
   "execution_count": null,
   "id": "3803266e",
   "metadata": {},
   "outputs": [],
   "source": [
    "get_vif(X)"
   ]
  },
  {
   "cell_type": "code",
   "execution_count": null,
   "id": "a24eef3b",
   "metadata": {},
   "outputs": [],
   "source": [
    "X = X.drop('hum', axis=1)\n",
    "X_train_lm = sm.add_constant(X)\n",
    "lr_2 = sm.OLS(y_train, X_train_lm).fit()\n",
    "lr_2.summary()"
   ]
  },
  {
   "cell_type": "code",
   "execution_count": null,
   "id": "00729809",
   "metadata": {},
   "outputs": [],
   "source": [
    "get_vif(X)"
   ]
  },
  {
   "cell_type": "code",
   "execution_count": null,
   "id": "2a7bada7",
   "metadata": {},
   "outputs": [],
   "source": [
    "X = X.drop('workingday', axis=1)\n",
    "X_train_lm = sm.add_constant(X)\n",
    "lr_2 = sm.OLS(y_train, X_train_lm).fit()\n",
    "lr_2.summary()"
   ]
  },
  {
   "cell_type": "code",
   "execution_count": null,
   "id": "90ac4bba",
   "metadata": {},
   "outputs": [],
   "source": [
    "get_vif(X)"
   ]
  },
  {
   "cell_type": "code",
   "execution_count": null,
   "id": "36967e78",
   "metadata": {},
   "outputs": [],
   "source": [
    "X = X.drop('temp', axis=1)\n",
    "X_train_lm = sm.add_constant(X)\n",
    "lr_2 = sm.OLS(y_train, X_train_lm).fit()\n",
    "lr_2.summary()"
   ]
  },
  {
   "cell_type": "code",
   "execution_count": null,
   "id": "eef8e1e6",
   "metadata": {
    "scrolled": true
   },
   "outputs": [],
   "source": [
    "get_vif(X)"
   ]
  },
  {
   "cell_type": "code",
   "execution_count": null,
   "id": "8ad8c681",
   "metadata": {},
   "outputs": [],
   "source": [
    "X = X.drop('season', axis=1)\n",
    "X_train_lm = sm.add_constant(X)\n",
    "lr_2 = sm.OLS(y_train, X_train_lm).fit()\n",
    "lr_2.summary()"
   ]
  },
  {
   "cell_type": "code",
   "execution_count": null,
   "id": "b3585148",
   "metadata": {},
   "outputs": [],
   "source": [
    "get_vif(X)"
   ]
  },
  {
   "cell_type": "code",
   "execution_count": null,
   "id": "18afbae1",
   "metadata": {
    "scrolled": true
   },
   "outputs": [],
   "source": [
    "X = X.drop('day', axis=1)\n",
    "X_train_lm = sm.add_constant(X)\n",
    "lr_2 = sm.OLS(y_train, X_train_lm).fit()\n",
    "lr_2.summary()"
   ]
  },
  {
   "cell_type": "code",
   "execution_count": null,
   "id": "80830b11",
   "metadata": {},
   "outputs": [],
   "source": [
    "get_vif(X)"
   ]
  },
  {
   "cell_type": "code",
   "execution_count": null,
   "id": "3539811a",
   "metadata": {},
   "outputs": [],
   "source": [
    "X = X.drop('holiday', axis=1)\n",
    "X_train_lm = sm.add_constant(X)\n",
    "lr_2 = sm.OLS(y_train, X_train_lm).fit()\n",
    "lr_2.summary()"
   ]
  },
  {
   "cell_type": "code",
   "execution_count": null,
   "id": "3d69d73b",
   "metadata": {},
   "outputs": [],
   "source": [
    "get_vif(X)"
   ]
  },
  {
   "cell_type": "code",
   "execution_count": null,
   "id": "0b5874c4",
   "metadata": {},
   "outputs": [],
   "source": [
    "X = X.drop('windspeed', axis=1)\n",
    "X_train_lm = sm.add_constant(X)\n",
    "lr_2 = sm.OLS(y_train, X_train_lm).fit()\n",
    "lr_2.summary()"
   ]
  },
  {
   "cell_type": "code",
   "execution_count": null,
   "id": "f0ba3632",
   "metadata": {
    "scrolled": true
   },
   "outputs": [],
   "source": [
    "get_vif(X)"
   ]
  },
  {
   "cell_type": "code",
   "execution_count": null,
   "id": "bc5876e2",
   "metadata": {},
   "outputs": [],
   "source": [
    "# X = X.drop('windspeed', axis=1)\n",
    "# X_train_lm = sm.add_constant(X)\n",
    "# lr_2 = sm.OLS(y_train, X_train_lm).fit()\n",
    "# lr_2.summary()"
   ]
  },
  {
   "cell_type": "code",
   "execution_count": null,
   "id": "4b705a19",
   "metadata": {},
   "outputs": [],
   "source": [
    "# get_vif(X)"
   ]
  },
  {
   "cell_type": "code",
   "execution_count": null,
   "id": "87484994",
   "metadata": {},
   "outputs": [],
   "source": [
    "# X = X.drop('day', axis=1)\n",
    "# X_train_lm = sm.add_constant(X)\n",
    "# lr_2 = sm.OLS(y_train, X_train_lm).fit()\n",
    "# lr_2.summary()"
   ]
  },
  {
   "cell_type": "code",
   "execution_count": null,
   "id": "f7d5ee38",
   "metadata": {
    "scrolled": false
   },
   "outputs": [],
   "source": [
    "# get_vif(X)"
   ]
  },
  {
   "cell_type": "code",
   "execution_count": null,
   "id": "8d7242dc",
   "metadata": {},
   "outputs": [],
   "source": [
    "# X = X.drop('const', axis=1)\n",
    "# X_train_lm = sm.add_constant(X)\n",
    "# lr_2 = sm.OLS(y_train, X_train_lm).fit()\n",
    "# lr_2.summary()"
   ]
  },
  {
   "cell_type": "code",
   "execution_count": null,
   "id": "0651ff18",
   "metadata": {},
   "outputs": [],
   "source": [
    "# get_vif(X)"
   ]
  },
  {
   "cell_type": "markdown",
   "id": "36373bfa",
   "metadata": {},
   "source": [
    "#### Perform Residual Analysis"
   ]
  },
  {
   "cell_type": "code",
   "execution_count": null,
   "id": "b1244b6a",
   "metadata": {
    "scrolled": false
   },
   "outputs": [],
   "source": [
    "y_train_pred = lr_2.predict(X_train_lm)\n",
    "res = y_train - y_train_pred\n",
    "sns.histplot(res, kde=True)\n",
    "plt.xlabel('Errors');"
   ]
  },
  {
   "cell_type": "markdown",
   "id": "8b7ff604",
   "metadata": {},
   "source": [
    "#### Making Prediction"
   ]
  },
  {
   "cell_type": "code",
   "execution_count": null,
   "id": "ef05b39d",
   "metadata": {},
   "outputs": [],
   "source": [
    "mlr_test[SCALED.columns] = scaler.transform(mlr_test[SCALED.columns])"
   ]
  },
  {
   "cell_type": "code",
   "execution_count": null,
   "id": "909f8827",
   "metadata": {},
   "outputs": [],
   "source": [
    "y_test = mlr_test.pop(TARGET)\n",
    "X_test = mlr_test"
   ]
  },
  {
   "cell_type": "code",
   "execution_count": null,
   "id": "2030bea1",
   "metadata": {},
   "outputs": [],
   "source": [
    "X_test.columns"
   ]
  },
  {
   "cell_type": "markdown",
   "id": "dfeccba1",
   "metadata": {},
   "source": [
    "#### Dividing into X_test and y_test"
   ]
  },
  {
   "cell_type": "code",
   "execution_count": null,
   "id": "c896348b",
   "metadata": {},
   "outputs": [],
   "source": [
    "# Adding constant variable to test dataframe\n",
    "X_test_model = sm.add_constant(X_test)"
   ]
  },
  {
   "cell_type": "code",
   "execution_count": null,
   "id": "cb54353f",
   "metadata": {},
   "outputs": [],
   "source": [
    "X_test_model = X_test_model.drop(['instant','atemp','mnth','weekday','hum','workingday','temp','season','day','holiday','windspeed'], axis=1)"
   ]
  },
  {
   "cell_type": "code",
   "execution_count": null,
   "id": "c3bea58d",
   "metadata": {},
   "outputs": [],
   "source": [
    "# Making predictions using the fourth model\n",
    "\n",
    "y_test_pred = lr_2.predict(X_test_model)"
   ]
  },
  {
   "cell_type": "markdown",
   "id": "d462a3a7",
   "metadata": {},
   "source": [
    "#### Model Evaluation"
   ]
  },
  {
   "cell_type": "code",
   "execution_count": null,
   "id": "e40959e3",
   "metadata": {},
   "outputs": [],
   "source": [
    "# Plotting y_test and y_pred_model to understand the spread\n",
    "\n",
    "fig = plt.figure()\n",
    "plt.scatter(y_test, y_test_pred)\n",
    "fig.suptitle('y_test vs y_pred', fontsize = 20)              # Plot heading \n",
    "plt.xlabel('y_test', fontsize = 18)                          # X-label\n",
    "plt.ylabel('y_pred', fontsize = 16)      "
   ]
  },
  {
   "cell_type": "code",
   "execution_count": null,
   "id": "95cf30bc",
   "metadata": {},
   "outputs": [],
   "source": [
    "# evaluate the model\n",
    "r2_score(y_true=y_test, y_pred=y_test_pred)"
   ]
  },
  {
   "cell_type": "markdown",
   "id": "5a70f3e4",
   "metadata": {},
   "source": [
    "### For the second model, we use Recursive Feature Elimination (RFE)"
   ]
  },
  {
   "cell_type": "code",
   "execution_count": null,
   "id": "b8b487af",
   "metadata": {},
   "outputs": [],
   "source": [
    "DUMMIES = ['weathersit']\n",
    "DUMMY_COLS = pd.get_dummies(rfe_df[DUMMIES], drop_first=True)\n",
    "rfe_df = pd.concat([rfe_df, DUMMY_COLS], axis=1)\n",
    "rfe_df = rfe_df.drop(DUMMIES, axis=1)\n",
    "rfe_df.head()"
   ]
  },
  {
   "cell_type": "markdown",
   "id": "146c4f7a",
   "metadata": {},
   "source": [
    "#### Train Test Split"
   ]
  },
  {
   "cell_type": "code",
   "execution_count": null,
   "id": "2238d01e",
   "metadata": {},
   "outputs": [],
   "source": [
    "rfe_train, rfe_test = train_test_split(rfe_df, train_size=0.7, random_state=100)\n",
    "print(rfe_train.shape)\n",
    "print(rfe_test.shape)"
   ]
  },
  {
   "cell_type": "markdown",
   "id": "09a7c64a",
   "metadata": {},
   "source": [
    "#### Scaling the data\n",
    "Apply scaler() to all the columns except the 'YESNO' and 'DUMMIES' variables\n"
   ]
  },
  {
   "cell_type": "code",
   "execution_count": null,
   "id": "e2430ab7",
   "metadata": {},
   "outputs": [],
   "source": [
    "# Importing RFE and LinearRegression\n",
    "from sklearn.feature_selection import RFE\n",
    "from sklearn.linear_model import LinearRegression"
   ]
  },
  {
   "cell_type": "code",
   "execution_count": null,
   "id": "2551a2b0",
   "metadata": {},
   "outputs": [],
   "source": [
    "EXCLUDE = pd.concat([rfe_df[YESNO], rfe_df[DUMMY_COLS.columns]], axis=1).columns\n",
    "SCALED = rfe_df.loc[:,~rfe_df.columns.isin(EXCLUDE)]"
   ]
  },
  {
   "cell_type": "code",
   "execution_count": null,
   "id": "f1614cbc",
   "metadata": {},
   "outputs": [],
   "source": [
    "#1 Scale the numerical data\n",
    "scaler = MinMaxScaler()\n",
    "\n",
    "#2. Fit on data\n",
    "rfe_train[SCALED.columns] = scaler.fit_transform(rfe_train[SCALED.columns])"
   ]
  },
  {
   "cell_type": "code",
   "execution_count": null,
   "id": "46790cfe",
   "metadata": {},
   "outputs": [],
   "source": [
    "rfe_train.describe()"
   ]
  },
  {
   "cell_type": "code",
   "execution_count": null,
   "id": "da8c28cc",
   "metadata": {},
   "outputs": [],
   "source": [
    "# X_train, y_train\n",
    "y_train = rfe_train.pop(TARGET)\n",
    "X_train = rfe_train"
   ]
  },
  {
   "cell_type": "code",
   "execution_count": null,
   "id": "3d852b96",
   "metadata": {},
   "outputs": [],
   "source": [
    "# Running RFE with the output number of the variable equal to 10\n",
    "lm = LinearRegression()\n",
    "lm.fit(X_train, y_train)\n",
    "\n",
    "rfe = RFE(lm, n_features_to_select=10)\n",
    "rfe = rfe.fit(X_train, y_train)"
   ]
  },
  {
   "cell_type": "code",
   "execution_count": null,
   "id": "e40895c7",
   "metadata": {},
   "outputs": [],
   "source": [
    "list(zip(X_train.columns, rfe.support_, rfe.ranking_))"
   ]
  },
  {
   "cell_type": "code",
   "execution_count": null,
   "id": "ebf1a7a0",
   "metadata": {},
   "outputs": [],
   "source": [
    "col = X_train.columns[rfe.support_]\n",
    "col"
   ]
  },
  {
   "cell_type": "code",
   "execution_count": null,
   "id": "28fbaaae",
   "metadata": {},
   "outputs": [],
   "source": [
    "X_train.columns[~rfe.support_]"
   ]
  },
  {
   "cell_type": "code",
   "execution_count": null,
   "id": "8fe0ea6c",
   "metadata": {},
   "outputs": [],
   "source": [
    "X_train_rfe = X_train[col]\n",
    "X_train_rfe = sm.add_constant(X_train_rfe)\n",
    "lm = sm.OLS(y_train, X_train_rfe).fit()\n",
    "lm.summary()"
   ]
  },
  {
   "cell_type": "markdown",
   "id": "8d2d292f",
   "metadata": {},
   "source": [
    "#### Drop a variable based on highest VIF and high p-value"
   ]
  },
  {
   "cell_type": "code",
   "execution_count": null,
   "id": "0b2391c3",
   "metadata": {},
   "outputs": [],
   "source": [
    "X_train_new = X_train_rfe.drop(['mnth'],axis=1)\n",
    "X_train_lm = sm.add_constant(X_train_new)\n",
    "lm_2 = sm.OLS(y_train, X_train_lm).fit()\n",
    "lm_2.summary()"
   ]
  },
  {
   "cell_type": "code",
   "execution_count": null,
   "id": "ec485be5",
   "metadata": {},
   "outputs": [],
   "source": [
    "get_vif(X_train_new)"
   ]
  },
  {
   "cell_type": "code",
   "execution_count": null,
   "id": "8bf1bcde",
   "metadata": {},
   "outputs": [],
   "source": [
    "X_train_new = X_train_new.drop(['atemp'],axis=1)\n",
    "X_train_lm = sm.add_constant(X_train_new)\n",
    "lm = sm.OLS(y_train, X_train_lm).fit()\n",
    "lm.summary()"
   ]
  },
  {
   "cell_type": "code",
   "execution_count": null,
   "id": "002e9def",
   "metadata": {},
   "outputs": [],
   "source": [
    "get_vif(X_train_new)"
   ]
  },
  {
   "cell_type": "code",
   "execution_count": null,
   "id": "0ae3e919",
   "metadata": {},
   "outputs": [],
   "source": [
    "X_train_new = X_train_new.drop(['season'],axis=1)\n",
    "X_train_lm = sm.add_constant(X_train_new)\n",
    "lm = sm.OLS(y_train, X_train_lm).fit()\n",
    "lm.summary()"
   ]
  },
  {
   "cell_type": "code",
   "execution_count": null,
   "id": "b79e82d7",
   "metadata": {},
   "outputs": [],
   "source": [
    "get_vif(X_train_new)"
   ]
  },
  {
   "cell_type": "code",
   "execution_count": null,
   "id": "4c4039c5",
   "metadata": {},
   "outputs": [],
   "source": [
    "X_train_new = X_train_new.drop(['instant'],axis=1)\n",
    "X_train_lm = sm.add_constant(X_train_new)\n",
    "lm = sm.OLS(y_train, X_train_lm).fit()\n",
    "lm.summary()"
   ]
  },
  {
   "cell_type": "code",
   "execution_count": null,
   "id": "f284180c",
   "metadata": {},
   "outputs": [],
   "source": [
    "X_train_new = X_train_new.drop(['const'],axis=1)\n",
    "X_train_lm = sm.add_constant(X_train_new)\n",
    "lm = sm.OLS(y_train, X_train_lm).fit()\n",
    "lm.summary()"
   ]
  },
  {
   "cell_type": "code",
   "execution_count": null,
   "id": "8da7fecf",
   "metadata": {},
   "outputs": [],
   "source": [
    "get_vif(X_train_new)"
   ]
  },
  {
   "cell_type": "markdown",
   "id": "2fb03829",
   "metadata": {},
   "source": [
    "#### Residual Analysis of the trained data"
   ]
  },
  {
   "cell_type": "code",
   "execution_count": null,
   "id": "742ca6ec",
   "metadata": {},
   "outputs": [],
   "source": [
    "y_train_pred = lm.predict(X_train_lm)"
   ]
  },
  {
   "cell_type": "code",
   "execution_count": null,
   "id": "c1ff8a63",
   "metadata": {},
   "outputs": [],
   "source": [
    "# Plot the histogram of the error terms\n",
    "fig = plt.figure()\n",
    "sns.histplot(y_train - y_train_pred, kde=True)\n",
    "fig.suptitle('Error Terms', fontsize = 20)                  # Plot heading \n",
    "plt.xlabel('Errors', fontsize = 18)                         # X-label"
   ]
  },
  {
   "cell_type": "markdown",
   "id": "7292fbb7",
   "metadata": {},
   "source": [
    "#### Making Predictions\n",
    "Applying scaling on the test data"
   ]
  },
  {
   "cell_type": "code",
   "execution_count": null,
   "id": "890729a3",
   "metadata": {},
   "outputs": [],
   "source": [
    "rfe_test[SCALED.columns] = scaler.transform(rfe_test[SCALED.columns])"
   ]
  },
  {
   "cell_type": "code",
   "execution_count": null,
   "id": "ae079dfd",
   "metadata": {},
   "outputs": [],
   "source": [
    "y_test = rfe_test.pop(TARGET)\n",
    "X_test = rfe_test"
   ]
  },
  {
   "cell_type": "code",
   "execution_count": null,
   "id": "507c1826",
   "metadata": {},
   "outputs": [],
   "source": [
    "X_test_new = X_test[X_train_new.columns]\n",
    "X_test_new = sm.add_constant(X_test_new)"
   ]
  },
  {
   "cell_type": "code",
   "execution_count": null,
   "id": "e327a5eb",
   "metadata": {},
   "outputs": [],
   "source": [
    "print(\"X_test_new.shape: {}\".format(X_test_new.shape))\n",
    "print(\"X_train_new: {}\".format(X_train_new.shape))"
   ]
  },
  {
   "cell_type": "code",
   "execution_count": null,
   "id": "6aa9727f",
   "metadata": {},
   "outputs": [],
   "source": [
    "# Making predictions\n",
    "y_pred = lm.predict(X_test_new)"
   ]
  },
  {
   "cell_type": "code",
   "execution_count": null,
   "id": "285a1e47",
   "metadata": {},
   "outputs": [],
   "source": [
    "# Plotting y_test and y_pred to understand the spread.\n",
    "fig = plt.figure()\n",
    "plt.scatter(y_test,y_pred)\n",
    "fig.suptitle('y_test vs y_pred', fontsize=20)              # Plot heading \n",
    "plt.xlabel('y_test', fontsize=18)                          # X-label\n",
    "plt.ylabel('y_pred', fontsize=16)                          # Y-label"
   ]
  },
  {
   "cell_type": "code",
   "execution_count": null,
   "id": "1517b939",
   "metadata": {},
   "outputs": [],
   "source": [
    "# evaluate the model\n",
    "r2_score(y_true=y_test, y_pred=y_test_pred)"
   ]
  },
  {
   "cell_type": "code",
   "execution_count": null,
   "id": "b6301dc9",
   "metadata": {},
   "outputs": [],
   "source": []
  }
 ],
 "metadata": {
  "kernelspec": {
   "display_name": "Python 3 (ipykernel)",
   "language": "python",
   "name": "python3"
  },
  "language_info": {
   "codemirror_mode": {
    "name": "ipython",
    "version": 3
   },
   "file_extension": ".py",
   "mimetype": "text/x-python",
   "name": "python",
   "nbconvert_exporter": "python",
   "pygments_lexer": "ipython3",
   "version": "3.9.13"
  }
 },
 "nbformat": 4,
 "nbformat_minor": 5
}
